{
 "cells": [
  {
   "cell_type": "code",
   "execution_count": 5,
   "id": "d58bf572-4043-40c2-816b-58ae1cd87800",
   "metadata": {},
   "outputs": [],
   "source": [
    "# import libraries\n",
    "from bs4 import BeautifulSoup\n",
    "import requests"
   ]
  },
  {
   "cell_type": "code",
   "execution_count": 7,
   "id": "e2694340-e0f6-4770-b42f-a3bad94d7c5a",
   "metadata": {},
   "outputs": [],
   "source": [
    "# Define the URL of the Wikipedia page that contains the list of the largest companies in the United States by revenue.\n",
    "url = 'https://en.wikipedia.org/wiki/List_of_largest_companies_in_the_United_States_by_revenue'\n",
    "# Send a GET request to the specified URL to retrieve the HTML content of the page.\n",
    "page=requests.get(url)"
   ]
  },
  {
   "cell_type": "code",
   "execution_count": 9,
   "id": "629fae1a-05ad-471e-b5e5-ede54bd0a8fb",
   "metadata": {},
   "outputs": [],
   "source": [
    "# Parse the HTML content of the page using BeautifulSoup to create a soup object for easy data extraction.\n",
    "soup=BeautifulSoup(page.text,'html')"
   ]
  },
  {
   "cell_type": "code",
   "execution_count": 13,
   "id": "cce9d2d8-3c8d-47e5-a9e5-825de631e992",
   "metadata": {},
   "outputs": [],
   "source": [
    "table=soup.find_all('table')[0]\n",
    "# print(table)"
   ]
  },
  {
   "cell_type": "code",
   "execution_count": 15,
   "id": "123fa01f-6324-428e-b02b-5f85ab6734ab",
   "metadata": {},
   "outputs": [],
   "source": [
    "table1=table.find_all('th')"
   ]
  },
  {
   "cell_type": "code",
   "execution_count": 17,
   "id": "75e749dd-9068-4f86-b147-a25834fa3109",
   "metadata": {},
   "outputs": [
    {
     "name": "stdout",
     "output_type": "stream",
     "text": [
      "[<th>Rank\n",
      "</th>, <th>Name\n",
      "</th>, <th>Industry\n",
      "</th>, <th>Revenue <br/>(USD millions)\n",
      "</th>, <th>Revenue growth\n",
      "</th>, <th>Employees\n",
      "</th>, <th>Headquarters\n",
      "</th>]\n"
     ]
    }
   ],
   "source": [
    "print(table1)"
   ]
  },
  {
   "cell_type": "code",
   "execution_count": 19,
   "id": "7a312b05-5741-4357-873f-22d75f0cbea7",
   "metadata": {},
   "outputs": [
    {
     "name": "stdout",
     "output_type": "stream",
     "text": [
      "['Rank', 'Name', 'Industry', 'Revenue (USD millions)', 'Revenue growth', 'Employees', 'Headquarters']\n"
     ]
    }
   ],
   "source": [
    "# Create a list called 'world_table_list' by iterating over each column in 'table1'.\n",
    "# The list comprehension extracts the text from each column, removing any leading or trailing whitespace.\n",
    "world_table_list=[ column.text.strip() for column in table1 ]\n",
    "print(world_table_list)"
   ]
  },
  {
   "cell_type": "code",
   "execution_count": 21,
   "id": "38c03b6c-dc97-426d-afca-eda1fea8c673",
   "metadata": {},
   "outputs": [],
   "source": [
    "import pandas as pd"
   ]
  },
  {
   "cell_type": "code",
   "execution_count": 23,
   "id": "b617067a-3bbe-4cd4-a835-dfc3023fb7f4",
   "metadata": {},
   "outputs": [
    {
     "data": {
      "text/html": [
       "<div>\n",
       "<style scoped>\n",
       "    .dataframe tbody tr th:only-of-type {\n",
       "        vertical-align: middle;\n",
       "    }\n",
       "\n",
       "    .dataframe tbody tr th {\n",
       "        vertical-align: top;\n",
       "    }\n",
       "\n",
       "    .dataframe thead th {\n",
       "        text-align: right;\n",
       "    }\n",
       "</style>\n",
       "<table border=\"1\" class=\"dataframe\">\n",
       "  <thead>\n",
       "    <tr style=\"text-align: right;\">\n",
       "      <th></th>\n",
       "      <th>Rank</th>\n",
       "      <th>Name</th>\n",
       "      <th>Industry</th>\n",
       "      <th>Revenue (USD millions)</th>\n",
       "      <th>Revenue growth</th>\n",
       "      <th>Employees</th>\n",
       "      <th>Headquarters</th>\n",
       "    </tr>\n",
       "  </thead>\n",
       "  <tbody>\n",
       "  </tbody>\n",
       "</table>\n",
       "</div>"
      ],
      "text/plain": [
       "Empty DataFrame\n",
       "Columns: [Rank, Name, Industry, Revenue (USD millions), Revenue growth, Employees, Headquarters]\n",
       "Index: []"
      ]
     },
     "execution_count": 23,
     "metadata": {},
     "output_type": "execute_result"
    }
   ],
   "source": [
    "# creating the data frame :\n",
    "df=pd.DataFrame(columns=world_table_list)\n",
    "df"
   ]
  },
  {
   "cell_type": "code",
   "execution_count": 27,
   "id": "553b0858-9e0f-498b-9480-ec266096dee3",
   "metadata": {},
   "outputs": [],
   "source": [
    "rows=table.find_all('tr')\n"
   ]
  },
  {
   "cell_type": "code",
   "execution_count": 111,
   "id": "b5c5771f-c635-453a-9ad1-3c5b4cb3f3bd",
   "metadata": {},
   "outputs": [],
   "source": [
    " \n",
    "# Iterate over each element in 'rows', starting from the second row (to skip the header).\n",
    "for element in rows[1:]:\n",
    "    # Find all 'td'  elements within the current row element.\n",
    "    tds = element.find_all('td')\n",
    "    \n",
    "    # Create a list 'tdsss' by extracting and stripping text from each 'td' element.\n",
    "    tdsss = [element2.text.strip() for element2 in tds]\n",
    "    \n",
    "    # Get the current length of the DataFrame 'df' to determine the next index for appending data.\n",
    "    length = len(df)\n",
    "    \n",
    "    # Append the extracted data from 'tdsss' to the DataFrame at the new index.\n",
    "    df.loc[length] = tdsss\n",
    "\n",
    "    "
   ]
  },
  {
   "cell_type": "code",
   "execution_count": 113,
   "id": "3e6887d7-cfe8-4ace-acfe-8420cadefa6e",
   "metadata": {},
   "outputs": [
    {
     "data": {
      "text/html": [
       "<div>\n",
       "<style scoped>\n",
       "    .dataframe tbody tr th:only-of-type {\n",
       "        vertical-align: middle;\n",
       "    }\n",
       "\n",
       "    .dataframe tbody tr th {\n",
       "        vertical-align: top;\n",
       "    }\n",
       "\n",
       "    .dataframe thead th {\n",
       "        text-align: right;\n",
       "    }\n",
       "</style>\n",
       "<table border=\"1\" class=\"dataframe\">\n",
       "  <thead>\n",
       "    <tr style=\"text-align: right;\">\n",
       "      <th></th>\n",
       "      <th>Rank</th>\n",
       "      <th>Name</th>\n",
       "      <th>Industry</th>\n",
       "      <th>Revenue (USD millions)</th>\n",
       "      <th>Revenue growth</th>\n",
       "      <th>Employees</th>\n",
       "      <th>Headquarters</th>\n",
       "    </tr>\n",
       "  </thead>\n",
       "  <tbody>\n",
       "    <tr>\n",
       "      <th>0</th>\n",
       "      <td>1</td>\n",
       "      <td>Walmart</td>\n",
       "      <td>Retail</td>\n",
       "      <td>648,125</td>\n",
       "      <td>6.0%</td>\n",
       "      <td>2,100,000</td>\n",
       "      <td>Bentonville, Arkansas</td>\n",
       "    </tr>\n",
       "    <tr>\n",
       "      <th>1</th>\n",
       "      <td>2</td>\n",
       "      <td>Amazon</td>\n",
       "      <td>Retail and cloud computing</td>\n",
       "      <td>574,785</td>\n",
       "      <td>11.9%</td>\n",
       "      <td>1,525,000</td>\n",
       "      <td>Seattle, Washington</td>\n",
       "    </tr>\n",
       "    <tr>\n",
       "      <th>2</th>\n",
       "      <td>3</td>\n",
       "      <td>Apple</td>\n",
       "      <td>Electronics industry</td>\n",
       "      <td>383,482</td>\n",
       "      <td>-2.8%</td>\n",
       "      <td>161,000</td>\n",
       "      <td>Cupertino, California</td>\n",
       "    </tr>\n",
       "    <tr>\n",
       "      <th>3</th>\n",
       "      <td>4</td>\n",
       "      <td>UnitedHealth Group</td>\n",
       "      <td>Healthcare</td>\n",
       "      <td>371,622</td>\n",
       "      <td>14.6%</td>\n",
       "      <td>440,000</td>\n",
       "      <td>Minnetonka, Minnesota</td>\n",
       "    </tr>\n",
       "    <tr>\n",
       "      <th>4</th>\n",
       "      <td>5</td>\n",
       "      <td>Berkshire Hathaway</td>\n",
       "      <td>Conglomerate</td>\n",
       "      <td>364,482</td>\n",
       "      <td>20.7%</td>\n",
       "      <td>396,500</td>\n",
       "      <td>Omaha, Nebraska</td>\n",
       "    </tr>\n",
       "    <tr>\n",
       "      <th>...</th>\n",
       "      <td>...</td>\n",
       "      <td>...</td>\n",
       "      <td>...</td>\n",
       "      <td>...</td>\n",
       "      <td>...</td>\n",
       "      <td>...</td>\n",
       "      <td>...</td>\n",
       "    </tr>\n",
       "    <tr>\n",
       "      <th>195</th>\n",
       "      <td>96</td>\n",
       "      <td>TIAA</td>\n",
       "      <td>Financials</td>\n",
       "      <td>45,735</td>\n",
       "      <td>11.8%</td>\n",
       "      <td>16,023</td>\n",
       "      <td>New York City, New York</td>\n",
       "    </tr>\n",
       "    <tr>\n",
       "      <th>196</th>\n",
       "      <td>97</td>\n",
       "      <td>CHS</td>\n",
       "      <td>Agriculture cooperative</td>\n",
       "      <td>45,590</td>\n",
       "      <td>-4.6%</td>\n",
       "      <td>10,609</td>\n",
       "      <td>Inver Grove Heights, Minnesota</td>\n",
       "    </tr>\n",
       "    <tr>\n",
       "      <th>197</th>\n",
       "      <td>98</td>\n",
       "      <td>Bristol-Myers Squibb</td>\n",
       "      <td>Pharmaceutical industry</td>\n",
       "      <td>45,006</td>\n",
       "      <td>-2.5%</td>\n",
       "      <td>34,100</td>\n",
       "      <td>New York City, New York</td>\n",
       "    </tr>\n",
       "    <tr>\n",
       "      <th>198</th>\n",
       "      <td>99</td>\n",
       "      <td>Dow Chemical Company</td>\n",
       "      <td>Chemical industry</td>\n",
       "      <td>44,622</td>\n",
       "      <td>-21.6%</td>\n",
       "      <td>35,900</td>\n",
       "      <td>Midland, Michigan</td>\n",
       "    </tr>\n",
       "    <tr>\n",
       "      <th>199</th>\n",
       "      <td>100</td>\n",
       "      <td>Best Buy</td>\n",
       "      <td>Retail</td>\n",
       "      <td>43,452</td>\n",
       "      <td>-6.1%</td>\n",
       "      <td>85,000</td>\n",
       "      <td>Richfield, Minnesota</td>\n",
       "    </tr>\n",
       "  </tbody>\n",
       "</table>\n",
       "<p>200 rows × 7 columns</p>\n",
       "</div>"
      ],
      "text/plain": [
       "    Rank                  Name                    Industry  \\\n",
       "0      1               Walmart                      Retail   \n",
       "1      2                Amazon  Retail and cloud computing   \n",
       "2      3                 Apple        Electronics industry   \n",
       "3      4    UnitedHealth Group                  Healthcare   \n",
       "4      5    Berkshire Hathaway                Conglomerate   \n",
       "..   ...                   ...                         ...   \n",
       "195   96                  TIAA                  Financials   \n",
       "196   97                   CHS     Agriculture cooperative   \n",
       "197   98  Bristol-Myers Squibb     Pharmaceutical industry   \n",
       "198   99  Dow Chemical Company           Chemical industry   \n",
       "199  100              Best Buy                      Retail   \n",
       "\n",
       "    Revenue (USD millions) Revenue growth  Employees  \\\n",
       "0                  648,125           6.0%  2,100,000   \n",
       "1                  574,785          11.9%  1,525,000   \n",
       "2                  383,482          -2.8%    161,000   \n",
       "3                  371,622          14.6%    440,000   \n",
       "4                  364,482          20.7%    396,500   \n",
       "..                     ...            ...        ...   \n",
       "195                 45,735          11.8%     16,023   \n",
       "196                 45,590          -4.6%     10,609   \n",
       "197                 45,006          -2.5%     34,100   \n",
       "198                 44,622         -21.6%     35,900   \n",
       "199                 43,452          -6.1%     85,000   \n",
       "\n",
       "                       Headquarters  \n",
       "0             Bentonville, Arkansas  \n",
       "1               Seattle, Washington  \n",
       "2             Cupertino, California  \n",
       "3             Minnetonka, Minnesota  \n",
       "4                   Omaha, Nebraska  \n",
       "..                              ...  \n",
       "195         New York City, New York  \n",
       "196  Inver Grove Heights, Minnesota  \n",
       "197         New York City, New York  \n",
       "198               Midland, Michigan  \n",
       "199            Richfield, Minnesota  \n",
       "\n",
       "[200 rows x 7 columns]"
      ]
     },
     "execution_count": 113,
     "metadata": {},
     "output_type": "execute_result"
    }
   ],
   "source": [
    "df"
   ]
  },
  {
   "cell_type": "code",
   "execution_count": 117,
   "id": "38ee5556-ad04-45a6-ae78-ad3f204fb3f7",
   "metadata": {},
   "outputs": [],
   "source": [
    "# Save the DataFrame 'df' to a CSV file named 'pandas.csv' in the specified path on the desktop.\n",
    "# The 'index=False' parameter ensures that the row index is not included in the CSV file.\n",
    "\n",
    "df.to_csv(r'C:\\Users\\PC\\Desktop\\files\\pandas.csv', index=False)\n"
   ]
  }
 ],
 "metadata": {
  "kernelspec": {
   "display_name": "Python 3 (ipykernel)",
   "language": "python",
   "name": "python3"
  },
  "language_info": {
   "codemirror_mode": {
    "name": "ipython",
    "version": 3
   },
   "file_extension": ".py",
   "mimetype": "text/x-python",
   "name": "python",
   "nbconvert_exporter": "python",
   "pygments_lexer": "ipython3",
   "version": "3.12.4"
  }
 },
 "nbformat": 4,
 "nbformat_minor": 5
}
